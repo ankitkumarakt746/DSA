{
 "cells": [
  {
   "cell_type": "markdown",
   "id": "e2e03c22",
   "metadata": {},
   "source": [
    "## Time Complexity"
   ]
  },
  {
   "cell_type": "markdown",
   "id": "0740711e",
   "metadata": {},
   "source": [
    "Algorithm: Linear Search for a target that does not exist in array.\n",
    "\n",
    "Say,  \n",
    "   Execution Time for old system = 10 sec  \n",
    " & Execution Time for new system = 1 sec\n",
    " \n",
    "Which one of the above two has lesser time complexity?"
   ]
  },
  {
   "cell_type": "code",
   "execution_count": 1,
   "id": "7c0da316",
   "metadata": {},
   "outputs": [
    {
     "name": "stdout",
     "output_type": "stream",
     "text": [
      "Same"
     ]
    }
   ],
   "source": [
    "assert [print(chr(i), end=\"\") for i in [83, 97, 109, 101]]"
   ]
  },
  {
   "cell_type": "markdown",
   "id": "803f1deb",
   "metadata": {},
   "source": [
    "#### Time Complexity != Execution Time"
   ]
  },
  {
   "cell_type": "markdown",
   "id": "4ebfb264",
   "metadata": {},
   "source": [
    "Say,  \n",
    "   The old system takes 10, 100, 1000 seconds for array size of 1, 10, 100 respectively  \n",
    " & the new systen takes 1, 10, 100 seconds for the same array size "
   ]
  },
  {
   "cell_type": "code",
   "execution_count": 3,
   "id": "36423d3e",
   "metadata": {},
   "outputs": [
    {
     "data": {
      "image/png": "[encoded data removed]",
      "text/plain": [
       "<Figure size 432x288 with 1 Axes>"
      ]
     },
     "metadata": {
      "needs_background": "light"
     },
     "output_type": "display_data"
    }
   ],
   "source": [
    "import matplotlib.pyplot as plt\n",
    "import numpy as np\n",
    "\n",
    "oldX = np.array([1, 10, 100])\n",
    "oldY = np.array([10, 100, 1000])\n",
    "\n",
    "plt.plot(oldX, oldY, marker='o')\n",
    "\n",
    "\n",
    "newX = np.array([1, 10, 100])\n",
    "newY = np.array([1, 10, 100])\n",
    "\n",
    "plt.plot(newX, newY, \"o-r\")\n",
    "\n",
    "plt.xlim(0, 110)\n",
    "plt.ylim(0, 1100)\n",
    "plt.title(\"Comparision\", fontdict = {'size':16})\n",
    "plt.xlabel(\"Array Size\")\n",
    "plt.ylabel(\"Execution Time\")\n",
    "plt.legend([\"Old System\", \"New System\"], loc =\"center right\")\n",
    "\n",
    "plt.show() "
   ]
  },
  {
   "cell_type": "markdown",
   "id": "65f6084f",
   "metadata": {},
   "source": [
    "In the above graph, its clear that time is growing linearly with respect to input."
   ]
  },
  {
   "cell_type": "markdown",
   "id": "a6334c19",
   "metadata": {},
   "source": [
    "#### Time Complexity is the mathematical function that tells us how the time is growing to grow as the input grows."
   ]
  },
  {
   "cell_type": "markdown",
   "id": "7b10cd19",
   "metadata": {},
   "source": [
    "<p><br/>The old system's relation can be written as:  <b> y1 = 10 x1</b><br/>\n",
    "    the new system's relation can be written as:  <b>y2 = x2</b>\n",
    "   \n",
    "   Point to be noted:  \n",
    "     1. Even though the value of actual time is different they're all growing linearly. (Note: The constants of the above equations are responsible for the slope.)  \n",
    "     2. We don't care about the actual execution time because it varries from machine to machine. We only care about the relationship of how the time will grow when the input grows.  \n",
    "  \n",
    "Because of the above two points we ignore constants.<p/>"
   ]
  },
  {
   "cell_type": "markdown",
   "id": "dfcc3351",
   "metadata": {},
   "source": [
    "We're always interested in the worst case complexity i.e. we always look at complexity for large/infinite data."
   ]
  },
  {
   "cell_type": "code",
   "execution_count": null,
   "id": "a8076222",
   "metadata": {},
   "outputs": [],
   "source": []
  }
 ],
 "metadata": {
  "kernelspec": {
   "display_name": "Python 3",
   "language": "python",
   "name": "python3"
  },
  "language_info": {
   "codemirror_mode": {
    "name": "ipython",
    "version": 3
   },
   "file_extension": ".py",
   "mimetype": "text/x-python",
   "name": "python",
   "nbconvert_exporter": "python",
   "pygments_lexer": "ipython3",
   "version": "3.8.8"
  }
 },
 "nbformat": 4,
 "nbformat_minor": 5
}
